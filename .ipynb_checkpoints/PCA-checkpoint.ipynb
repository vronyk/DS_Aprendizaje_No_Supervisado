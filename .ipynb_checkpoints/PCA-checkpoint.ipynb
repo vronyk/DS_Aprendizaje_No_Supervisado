{
 "cells": [
  {
   "cell_type": "markdown",
   "id": "f9893ae7",
   "metadata": {},
   "source": [
    "## EJEMPLO PCA"
   ]
  },
  {
   "cell_type": "code",
   "execution_count": 1,
   "id": "170dd1ab",
   "metadata": {},
   "outputs": [
    {
     "name": "stdout",
     "output_type": "stream",
     "text": [
      "[0.99244289 0.00755711]\n",
      "[6.30061232 0.54980396]\n",
      "[0.99244289 0.00755711]\n",
      "[6.30061232 0.54980396]\n",
      "[0.99244289]\n",
      "[6.30061232]\n"
     ]
    }
   ],
   "source": [
    "import numpy as np\n",
    "from sklearn.decomposition import PCA\n",
    "X = np.array([[-1, -1], [-2, -1], [-3, -2], [1, 1],\n",
    "[2, 1], [3, 2]])\n",
    "pca = PCA(n_components=2)\n",
    "pca.fit(X)\n",
    "PCA(n_components=2)\n",
    "print(pca.explained_variance_ratio_)\n",
    "print(pca.singular_values_)\n",
    "#[0.99244289 0.00755711]\n",
    "#[6.30061232 0.54980396]\n",
    "\n",
    "pca = PCA(n_components=2, svd_solver='full')\n",
    "pca.fit(X)\n",
    "PCA(n_components=2, svd_solver='full')\n",
    "print(pca.explained_variance_ratio_)\n",
    "print(pca.singular_values_)\n",
    "#[0.99244289 0.00755711]\n",
    "#[6.30061232 0.54980396]\n",
    "\n",
    "pca = PCA(n_components=1, svd_solver='arpack')\n",
    "pca.fit(X)\n",
    "PCA(n_components=1, svd_solver='arpack')\n",
    "print(pca.explained_variance_ratio_)\n",
    "print(pca.singular_values_)\n",
    "#[0.99244289]\n",
    "#[6.30061232]"
   ]
  }
 ],
 "metadata": {
  "kernelspec": {
   "display_name": "Python 3 (ipykernel)",
   "language": "python",
   "name": "python3"
  },
  "language_info": {
   "codemirror_mode": {
    "name": "ipython",
    "version": 3
   },
   "file_extension": ".py",
   "mimetype": "text/x-python",
   "name": "python",
   "nbconvert_exporter": "python",
   "pygments_lexer": "ipython3",
   "version": "3.9.13"
  }
 },
 "nbformat": 4,
 "nbformat_minor": 5
}
